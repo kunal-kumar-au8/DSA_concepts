{
 "cells": [
  {
   "cell_type": "markdown",
   "metadata": {},
   "source": [
    "# Stack\n",
    "A stack is a linear data structure that follows the principle of Last In First Out (LIFO).\n",
    "This means the last element inserted inside the stack is removed first."
   ]
  },
  {
   "cell_type": "markdown",
   "metadata": {},
   "source": [
    "# Basic Operations of Stack\n",
    "There are some basic operations that allow us to perform different actions on a stack.\n",
    "\n",
    "Push: Add an element to the top of a stack\n",
    "Pop: Remove an element from the top of a stack\n",
    "IsEmpty: Check if the stack is empty\n",
    "IsFull: Check if the stack is full\n",
    "Peek: Get the value of the top element without removing it"
   ]
  },
  {
   "cell_type": "markdown",
   "metadata": {},
   "source": [
    "# Working of Stack Data Structure\n",
    "## The operations work as follows:\n",
    "\n",
    "1. A pointer called TOP is used to keep track of the top element in the stack.\n",
    "2. When initializing the stack, we set its value to -1 so that we can check if the stack is empty by comparing TOP == -1.\n",
    "3. On pushing an element, we increase the value of TOP and place the new element in the position pointed to by TOP.\n",
    "4. On popping an element, we return the element pointed to by TOP and reduce its value.\n",
    "5. Before pushing, we check if the stack is already full\n",
    "6. Before popping, we check if the stack is already empty"
   ]
  },
  {
   "cell_type": "code",
   "execution_count": 9,
   "metadata": {},
   "outputs": [
    {
     "name": "stdout",
     "output_type": "stream",
     "text": [
      "Item inserted -> 1\n",
      "Item inserted -> 2\n",
      "Item inserted -> 3\n",
      "Item inserted -> 4\n",
      "['1', '2', '3', '4']\n",
      "popped item: 4\n",
      "stack after popping an element: ['1', '2', '3']\n"
     ]
    }
   ],
   "source": [
    "# Stack implementation in python\n",
    "\n",
    "# creating a Stack\n",
    "\n",
    "def create_stack():\n",
    "    stack = []\n",
    "    return stack\n",
    "\n",
    "# creating an impty stack\n",
    "def check_empty(stack):\n",
    "    return len(stack) == 0\n",
    "\n",
    "# adding items in stack\n",
    "def push(stack,item):\n",
    "    stack.append(item)\n",
    "    print(f'Item inserted -> {item}')\n",
    "\n",
    "# deleting items from stack\n",
    "def pop(stack):\n",
    "    if(check_empty(stack)):\n",
    "        return 'stack is empty'\n",
    "    return stack.pop()\n",
    "\n",
    "\n",
    "stack = create_stack()\n",
    "push(stack, str(1))\n",
    "push(stack, str(2))\n",
    "push(stack, str(3))\n",
    "push(stack, str(4))\n",
    "print(stack)\n",
    "print(\"popped item: \" + pop(stack))\n",
    "print(\"stack after popping an element: \" + str(stack))"
   ]
  },
  {
   "cell_type": "code",
   "execution_count": null,
   "metadata": {},
   "outputs": [],
   "source": []
  }
 ],
 "metadata": {
  "interpreter": {
   "hash": "31f2aee4e71d21fbe5cf8b01ff0e069b9275f58929596ceb00d14d90e3e16cd6"
  },
  "kernelspec": {
   "display_name": "Python 3.8.9 64-bit",
   "language": "python",
   "name": "python3"
  },
  "language_info": {
   "codemirror_mode": {
    "name": "ipython",
    "version": 3
   },
   "file_extension": ".py",
   "mimetype": "text/x-python",
   "name": "python",
   "nbconvert_exporter": "python",
   "pygments_lexer": "ipython3",
   "version": "3.8.9"
  },
  "orig_nbformat": 4
 },
 "nbformat": 4,
 "nbformat_minor": 2
}
