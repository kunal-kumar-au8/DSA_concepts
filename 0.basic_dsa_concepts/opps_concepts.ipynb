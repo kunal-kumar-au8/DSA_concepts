{
 "cells": [
  {
   "cell_type": "code",
   "execution_count": 6,
   "metadata": {},
   "outputs": [
    {
     "name": "stdout",
     "output_type": "stream",
     "text": [
      "Iphone11 is Smart Phone\n",
      "Samsung is Smart Phone\n",
      "Iphone specfications are Ram:8gb, Color:black, Price:$50000\n",
      "Samsung specfications are Ram:12gb, Color:black, Price:$40000\n"
     ]
    }
   ],
   "source": [
    "# Classes\n",
    "\n",
    "# Example 1: Creating Class and Object in Python\n",
    "class mobile:\n",
    "    \n",
    "    #class attribuit\n",
    "    mobile_type='Smart Phone'\n",
    "\n",
    "    #class innstance attribuit\n",
    "    def __init__(self,brand,ram,color,price):\n",
    "        self.brand = brand\n",
    "        self.ram = ram\n",
    "        self.color = color\n",
    "        self.price = price\n",
    "\n",
    "# instantiate the mobile class\n",
    "iphone11 = mobile('apple','8gb','black',50000)\n",
    "samsung_s10 = mobile('samsung','12gb','black',40000)\n",
    "\n",
    "# access the class attributes\n",
    "print(f'Iphone11 is {iphone11.__class__.mobile_type}')\n",
    "print(f'Samsung is {iphone11.__class__.mobile_type}')\n",
    "\n",
    "# access the class instance attribuits\n",
    "print(f'Iphone specfications are Ram:{iphone11.ram}, Color:{iphone11.color}, Price:${iphone11.price}')\n",
    "print(f'Samsung specfications are Ram:{samsung_s10.ram}, Color:{samsung_s10.color}, Price:${samsung_s10.price}')\n"
   ]
  },
  {
   "cell_type": "code",
   "execution_count": 16,
   "metadata": {},
   "outputs": [
    {
     "name": "stdout",
     "output_type": "stream",
     "text": [
      "apple has most durable camera 12mp\n",
      "apple has Face Id\n",
      "OnePlus has most durable camera 48mp\n",
      "OnePlus has Finger Print &Face Id\n"
     ]
    }
   ],
   "source": [
    "# Methods\n",
    "# Methods are functions defined inside the body of a class. They are used to define the behaviors of an object.\n",
    "\n",
    "# Example 2 : Creating Methods in Python\n",
    "class mobile:\n",
    "    \n",
    "    #class attribuit\n",
    "    mobile_type='Smart Phone'\n",
    "\n",
    "    #class innstance attribuit\n",
    "    def __init__(self,brand,ram,color,price):\n",
    "        self.brand = brand\n",
    "        self.ram = ram\n",
    "        self.color = color\n",
    "        self.price = price\n",
    "\n",
    "    def camera(self,cam):\n",
    "        return f'{self.brand} has most durable camera {cam}'\n",
    "\n",
    "    def authentication(self,auth):\n",
    "        return f'{self.brand} has {auth}'\n",
    "\n",
    "iphone12 = mobile('apple','8gb','black',50000)\n",
    "OnePlus9R = mobile('OnePlus','12gb','Silver',39000)\n",
    "\n",
    "print(iphone12.camera('12mp'))\n",
    "print(iphone12.authentication('Face Id'))\n",
    "\n",
    "print(OnePlus9R.camera('48mp'))\n",
    "print(OnePlus9R.authentication('Finger Print &Face Id'))"
   ]
  },
  {
   "cell_type": "code",
   "execution_count": null,
   "metadata": {},
   "outputs": [],
   "source": []
  }
 ],
 "metadata": {
  "interpreter": {
   "hash": "31f2aee4e71d21fbe5cf8b01ff0e069b9275f58929596ceb00d14d90e3e16cd6"
  },
  "kernelspec": {
   "display_name": "Python 3.8.9 64-bit",
   "language": "python",
   "name": "python3"
  },
  "language_info": {
   "codemirror_mode": {
    "name": "ipython",
    "version": 3
   },
   "file_extension": ".py",
   "mimetype": "text/x-python",
   "name": "python",
   "nbconvert_exporter": "python",
   "pygments_lexer": "ipython3",
   "version": "3.8.9"
  },
  "orig_nbformat": 4
 },
 "nbformat": 4,
 "nbformat_minor": 2
}
